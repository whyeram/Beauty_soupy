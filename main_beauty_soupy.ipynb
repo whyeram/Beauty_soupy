{
  "nbformat": 4,
  "nbformat_minor": 0,
  "metadata": {
    "colab": {
      "name": "main_beauty_soupy.ipynb",
      "provenance": [],
      "authorship_tag": "ABX9TyM+x/yWFmuLx6qYZw/0v8xG",
      "include_colab_link": true
    },
    "kernelspec": {
      "name": "python3",
      "display_name": "Python 3"
    },
    "language_info": {
      "name": "python"
    }
  },
  "cells": [
    {
      "cell_type": "markdown",
      "metadata": {
        "id": "view-in-github",
        "colab_type": "text"
      },
      "source": [
        "<a href=\"https://colab.research.google.com/github/whyeram/Beauty_soupy/blob/main/main_beauty_soupy.ipynb\" target=\"_parent\"><img src=\"https://colab.research.google.com/assets/colab-badge.svg\" alt=\"Open In Colab\"/></a>"
      ]
    },
    {
      "cell_type": "code",
      "execution_count": 3,
      "metadata": {
        "colab": {
          "base_uri": "https://localhost:8080/"
        },
        "id": "z0JoZTN83h91",
        "outputId": "10726849-01d7-4d04-8f51-3603715ce1e1"
      },
      "outputs": [
        {
          "output_type": "stream",
          "name": "stdout",
          "text": [
            "<html>\n",
            " <head>\n",
            "  <title>\n",
            "   The Dormouse's story\n",
            "  </title>\n",
            " </head>\n",
            " <body>\n",
            "  <p class=\"title\">\n",
            "   <b>\n",
            "    The Dormouse's story\n",
            "   </b>\n",
            "  </p>\n",
            "  <p class=\"story\">\n",
            "   Once upon a time there were three little sisters; and their names were\n",
            "   <a class=\"sister\" href=\"http://example.com/elsie\" id=\"link1\">\n",
            "    Elsie\n",
            "   </a>\n",
            "   ,\n",
            "   <a class=\"sister\" href=\"http://example.com/lacie\" id=\"link2\">\n",
            "    Lacie\n",
            "   </a>\n",
            "   and\n",
            "   <a class=\"sister\" href=\"http://example.com/tillie\" id=\"link3\">\n",
            "    Tillie\n",
            "   </a>\n",
            "   ;\n",
            "and they lived at the bottom of a well.\n",
            "  </p>\n",
            "  <p class=\"story\">\n",
            "   ...\n",
            "  </p>\n",
            " </body>\n",
            "</html>\n"
          ]
        },
        {
          "output_type": "execute_result",
          "data": {
            "text/plain": [
              "<title>The Dormouse's story</title>"
            ]
          },
          "metadata": {},
          "execution_count": 3
        }
      ],
      "source": [
        "html_doc = \"\"\"<html><head><title>The Dormouse's story</title></head>\n",
        "<body>\n",
        "<p class=\"title\"><b>The Dormouse's story</b></p>\n",
        "\n",
        "<p class=\"story\">Once upon a time there were three little sisters; and their names were\n",
        "<a href=\"http://example.com/elsie\" class=\"sister\" id=\"link1\">Elsie</a>,\n",
        "<a href=\"http://example.com/lacie\" class=\"sister\" id=\"link2\">Lacie</a> and\n",
        "<a href=\"http://example.com/tillie\" class=\"sister\" id=\"link3\">Tillie</a>;\n",
        "and they lived at the bottom of a well.</p>\n",
        "\n",
        "<p class=\"story\">...</p>\n",
        "\"\"\"\n"
      ]
    },
    {
      "cell_type": "code",
      "source": [
        "from bs4 import BeautifulSoup\n",
        "soup = BeautifulSoup(html_doc, 'html.parser')\n",
        "\n",
        "print(soup.prettify())"
      ],
      "metadata": {
        "colab": {
          "base_uri": "https://localhost:8080/"
        },
        "id": "EcDJGL1c4DEM",
        "outputId": "a77c3bea-8626-48de-d396-2b3321de1fe8"
      },
      "execution_count": 4,
      "outputs": [
        {
          "output_type": "stream",
          "name": "stdout",
          "text": [
            "<html>\n",
            " <head>\n",
            "  <title>\n",
            "   The Dormouse's story\n",
            "  </title>\n",
            " </head>\n",
            " <body>\n",
            "  <p class=\"title\">\n",
            "   <b>\n",
            "    The Dormouse's story\n",
            "   </b>\n",
            "  </p>\n",
            "  <p class=\"story\">\n",
            "   Once upon a time there were three little sisters; and their names were\n",
            "   <a class=\"sister\" href=\"http://example.com/elsie\" id=\"link1\">\n",
            "    Elsie\n",
            "   </a>\n",
            "   ,\n",
            "   <a class=\"sister\" href=\"http://example.com/lacie\" id=\"link2\">\n",
            "    Lacie\n",
            "   </a>\n",
            "   and\n",
            "   <a class=\"sister\" href=\"http://example.com/tillie\" id=\"link3\">\n",
            "    Tillie\n",
            "   </a>\n",
            "   ;\n",
            "and they lived at the bottom of a well.\n",
            "  </p>\n",
            "  <p class=\"story\">\n",
            "   ...\n",
            "  </p>\n",
            " </body>\n",
            "</html>\n"
          ]
        }
      ]
    },
    {
      "cell_type": "code",
      "source": [
        "print(soup.title)"
      ],
      "metadata": {
        "colab": {
          "base_uri": "https://localhost:8080/"
        },
        "id": "xsK60X624DYY",
        "outputId": "7e672a83-4a65-493d-dc25-0e757ba3a710"
      },
      "execution_count": 6,
      "outputs": [
        {
          "output_type": "stream",
          "name": "stdout",
          "text": [
            "<title>The Dormouse's story</title>\n"
          ]
        }
      ]
    },
    {
      "cell_type": "code",
      "source": [
        "print(soup.title.name)"
      ],
      "metadata": {
        "colab": {
          "base_uri": "https://localhost:8080/"
        },
        "id": "2vU7-P006TfZ",
        "outputId": "73839991-b2e6-48e6-8741-eae52fe5214b"
      },
      "execution_count": 7,
      "outputs": [
        {
          "output_type": "stream",
          "name": "stdout",
          "text": [
            "title\n"
          ]
        }
      ]
    },
    {
      "cell_type": "code",
      "source": [
        "print(soup.title.string)"
      ],
      "metadata": {
        "colab": {
          "base_uri": "https://localhost:8080/"
        },
        "id": "zXuX6xwE6afi",
        "outputId": "17ec59b1-dbb3-453c-fc7f-1f1c0f9d4abb"
      },
      "execution_count": 8,
      "outputs": [
        {
          "output_type": "stream",
          "name": "stdout",
          "text": [
            "The Dormouse's story\n"
          ]
        }
      ]
    },
    {
      "cell_type": "code",
      "source": [
        "soup.find(id=\"link3\")"
      ],
      "metadata": {
        "colab": {
          "base_uri": "https://localhost:8080/"
        },
        "id": "gtdFwN528TXv",
        "outputId": "974faf4e-0194-4d4f-c365-0e4a297df119"
      },
      "execution_count": 19,
      "outputs": [
        {
          "output_type": "execute_result",
          "data": {
            "text/plain": [
              "<a class=\"sister\" href=\"http://example.com/tillie\" id=\"link3\">Tillie</a>"
            ]
          },
          "metadata": {},
          "execution_count": 19
        }
      ]
    },
    {
      "cell_type": "code",
      "source": [
        "soup.find_all('a')"
      ],
      "metadata": {
        "colab": {
          "base_uri": "https://localhost:8080/"
        },
        "id": "HYdiTg4XQH_E",
        "outputId": "639ea0c7-0d6b-4f2e-c8cb-a1677e9bb556"
      },
      "execution_count": 20,
      "outputs": [
        {
          "output_type": "execute_result",
          "data": {
            "text/plain": [
              "[<a class=\"sister\" href=\"http://example.com/elsie\" id=\"link1\">Elsie</a>,\n",
              " <a class=\"sister\" href=\"http://example.com/lacie\" id=\"link2\">Lacie</a>,\n",
              " <a class=\"sister\" href=\"http://example.com/tillie\" id=\"link3\">Tillie</a>]"
            ]
          },
          "metadata": {},
          "execution_count": 20
        }
      ]
    }
  ]
}